{
  "nbformat": 4,
  "nbformat_minor": 0,
  "metadata": {
    "accelerator": "GPU",
    "colab": {
      "name": "UC",
      "provenance": [],
      "collapsed_sections": [],
      "include_colab_link": true
    },
    "kernelspec": {
      "display_name": "Python 3",
      "name": "python3"
    },
    "language_info": {
      "name": "python"
    }
  },
  "cells": [
    {
      "cell_type": "markdown",
      "metadata": {
        "id": "view-in-github",
        "colab_type": "text"
      },
      "source": [
        "<a href=\"https://colab.research.google.com/github/confifu/TryOnGAN-pytorch/blob/main/notebooks/UC.ipynb\" target=\"_parent\"><img src=\"https://colab.research.google.com/assets/colab-badge.svg\" alt=\"Open In Colab\"/></a>"
      ]
    },
    {
      "cell_type": "code",
      "metadata": {
        "id": "freM5GvlQdyi"
      },
      "source": [
        "!nvidia-smi"
      ],
      "execution_count": null,
      "outputs": []
    },
    {
      "cell_type": "code",
      "metadata": {
        "id": "aJKmJGFcQny3"
      },
      "source": [
        "%%capture\n",
        "!pip install wandb==0.9.7"
      ],
      "execution_count": null,
      "outputs": []
    },
    {
      "cell_type": "code",
      "metadata": {
        "id": "bqYVUZgVQvmJ"
      },
      "source": [
        "import wandb\n",
        "#wandb.login()\n",
        "\n",
        "from google.colab import drive\n",
        "drive.mount('/gdrive')"
      ],
      "execution_count": null,
      "outputs": []
    },
    {
      "cell_type": "code",
      "metadata": {
        "id": "15k2ezw9QymU"
      },
      "source": [
        "%cd /content\n",
        "!git clone -b UC https://github.com/confifu/TryOnGAN-pytorch.git"
      ],
      "execution_count": null,
      "outputs": []
    },
    {
      "cell_type": "markdown",
      "metadata": {
        "id": "38jDRfpWN_3z"
      },
      "source": [
        "# Generate Dataset"
      ]
    },
    {
      "cell_type": "code",
      "metadata": {
        "id": "jTcZWWTHQ1ZD"
      },
      "source": [
        "%%capture\n",
        "!gdown https://drive.google.com/uc?id=1r_Pz2gk1Sp2sjYS7cj9oYUMbLGo9EyZS\n",
        "\n",
        "!unzip /content/inshopclothes.zip\n",
        "!rm /content/inshopclothes.zip"
      ],
      "execution_count": null,
      "outputs": []
    },
    {
      "cell_type": "code",
      "metadata": {
        "id": "37ZL31uEOHFU"
      },
      "source": [
        "%cd /content/TryOnGAN-pytorch\n",
        "!python dataset_tool.py --source=/content/train --dest=/content/my_dataset.zip"
      ],
      "execution_count": null,
      "outputs": []
    },
    {
      "cell_type": "markdown",
      "metadata": {
        "id": "WMx9QMALOJ_u"
      },
      "source": [
        "# Train Model"
      ]
    },
    {
      "cell_type": "code",
      "metadata": {
        "id": "7NE6Z_8xQ5Xx"
      },
      "source": [
        "!pip install torch==1.8.1 torchvision==0.9.1\n",
        "\n",
        "!wget https://github.com/ninja-build/ninja/releases/download/v1.8.2/ninja-linux.zip\n",
        "!sudo unzip ninja-linux.zip -d /usr/local/bin/\n",
        "!sudo update-alternatives --install /usr/bin/ninja ninja /usr/local/bin/ninja 1 --force "
      ],
      "execution_count": null,
      "outputs": []
    },
    {
      "cell_type": "code",
      "metadata": {
        "id": "WLEBuMYgQ_6B"
      },
      "source": [
        "\n",
        "!(python train.py \\\n",
        "--outdir=/content/out \\\n",
        "--data=/content/my_dataset.zip \\\n",
        "--mirror=1 \\\n",
        "--resume=/gdrive/MyDrive/ada-tryongan/best_checkpoints/UC-scratch-network-snapshot-002404.pkl \\\n",
        "--gpus=1 \\\n",
        "--batch=32 \\\n",
        "--gamma=5 \\\n",
        "--aug=ada \\\n",
        "--snap=10 \\\n",
        "--project=ada-uncon-scratch)\n"
      ],
      "execution_count": null,
      "outputs": []
    }
  ]
}